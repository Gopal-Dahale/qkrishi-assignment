{
 "cells": [
  {
   "cell_type": "markdown",
   "id": "fbe910e9",
   "metadata": {},
   "source": [
    "## QSVC for Fraud Detection"
   ]
  },
  {
   "cell_type": "code",
   "execution_count": 1,
   "id": "19980daa",
   "metadata": {},
   "outputs": [
    {
     "name": "stderr",
     "output_type": "stream",
     "text": [
      "No GPU/TPU found, falling back to CPU. (Set TF_CPP_MIN_LOG_LEVEL=0 and rerun for more info.)\n"
     ]
    },
    {
     "data": {
      "text/plain": [
       "[CpuDevice(id=0)]"
      ]
     },
     "execution_count": 1,
     "metadata": {},
     "output_type": "execute_result"
    }
   ],
   "source": [
    "import pandas as pd\n",
    "import matplotlib.pyplot as plt\n",
    "import seaborn as sns\n",
    "import numpy as np\n",
    "from sklearn.linear_model import LogisticRegression\n",
    "from sklearn.metrics import classification_report\n",
    "from sklearn.model_selection import train_test_split\n",
    "from sklearn.svm import SVC\n",
    "from jax_utils import square_kernel_matrix_jax, kernel_matrix_jax, target_alignment_jax\n",
    "import pennylane.numpy as pnp\n",
    "import pennylane as qml\n",
    "import jax\n",
    "import jax.numpy as jnp\n",
    "import optax\n",
    "\n",
    "from jax.config import config\n",
    "config.update(\"jax_enable_x64\", True)\n",
    "\n",
    "seed = 42\n",
    "np.random.seed(seed)\n",
    "pnp.random.seed(seed)\n",
    "\n",
    "jax.devices()"
   ]
  },
  {
   "cell_type": "markdown",
   "id": "3961e6e5",
   "metadata": {},
   "source": [
    "## Splitting data\n",
    " \n",
    "We split the saved train data to train and validation datasets. We also change the labels from `0, 1` to `-1, 1` because we will be using `Pauli-Z` observable in the Quantum Circuit whose eigenvalues are `-1, 1`. Therefore, a 1 means that the stock price is manipulated."
   ]
  },
  {
   "cell_type": "code",
   "execution_count": 2,
   "id": "f27dfed0",
   "metadata": {},
   "outputs": [],
   "source": [
    "train_df = pd.read_csv('./data/processed_train.csv')\n",
    "test_df = pd.read_csv('./data/processed_test.csv')"
   ]
  },
  {
   "cell_type": "code",
   "execution_count": 3,
   "id": "d5bc0685",
   "metadata": {},
   "outputs": [],
   "source": [
    "target = 'manipulated'"
   ]
  },
  {
   "cell_type": "code",
   "execution_count": 4,
   "id": "426004d1",
   "metadata": {},
   "outputs": [
    {
     "name": "stdout",
     "output_type": "stream",
     "text": [
      "(421, 3) (421,)\n",
      "(181, 3) (181,)\n",
      "(2170, 3) (2170,)\n"
     ]
    }
   ],
   "source": [
    "X, y = train_df.drop(target, axis=1).to_numpy(), train_df[target].to_numpy()\n",
    "\n",
    "y = 2*y -1\n",
    "\n",
    "X_train, X_val, y_train, y_val = train_test_split(\n",
    "    X, y, test_size=0.3, random_state=seed,\n",
    "    stratify=y,\n",
    ")\n",
    "\n",
    "X_test, y_test = test_df.drop(target, axis=1).to_numpy(), test_df[target].to_numpy()\n",
    "y_test = 2*y_test - 1\n",
    "\n",
    "print(X_train.shape, y_train.shape)\n",
    "print(X_val.shape, y_val.shape)\n",
    "print(X_test.shape, y_test.shape)"
   ]
  },
  {
   "cell_type": "code",
   "execution_count": 5,
   "id": "f4b584f3",
   "metadata": {},
   "outputs": [
    {
     "name": "stdout",
     "output_type": "stream",
     "text": [
      "Not manipulated and manipulated stocks count\n",
      "Train: 210 211\n",
      "Val: 91 90\n",
      "Test: 2142 28\n"
     ]
    }
   ],
   "source": [
    "print(\"Not manipulated and manipulated stocks count\")\n",
    "print(\"Train:\", sum(y_train == -1), sum(y_train == 1))\n",
    "print(\"Val:\", sum(y_val == -1), sum(y_val == 1))\n",
    "print(\"Test:\", sum(y_test == -1), sum(y_test == 1))"
   ]
  },
  {
   "cell_type": "markdown",
   "id": "dd24a759",
   "metadata": {},
   "source": [
    "## Classical Model\n",
    "\n",
    "We first fit the dat with a classical model, Logisitic Regression. "
   ]
  },
  {
   "cell_type": "code",
   "execution_count": 6,
   "id": "8ebb7a9d",
   "metadata": {},
   "outputs": [],
   "source": [
    "clf = LogisticRegression().fit(X_train,y_train)"
   ]
  },
  {
   "cell_type": "code",
   "execution_count": 7,
   "id": "f156a4fb",
   "metadata": {},
   "outputs": [
    {
     "name": "stdout",
     "output_type": "stream",
     "text": [
      "              precision    recall  f1-score   support\n",
      "\n",
      "          -1       1.00      0.94      0.97       210\n",
      "           1       0.95      1.00      0.97       211\n",
      "\n",
      "    accuracy                           0.97       421\n",
      "   macro avg       0.97      0.97      0.97       421\n",
      "weighted avg       0.97      0.97      0.97       421\n",
      "\n"
     ]
    }
   ],
   "source": [
    "preds = clf.predict(X_train)\n",
    "print(classification_report(y_train, preds))"
   ]
  },
  {
   "cell_type": "code",
   "execution_count": 8,
   "id": "149e3dcb",
   "metadata": {},
   "outputs": [
    {
     "name": "stdout",
     "output_type": "stream",
     "text": [
      "              precision    recall  f1-score   support\n",
      "\n",
      "          -1       1.00      0.96      0.98        91\n",
      "           1       0.96      1.00      0.98        90\n",
      "\n",
      "    accuracy                           0.98       181\n",
      "   macro avg       0.98      0.98      0.98       181\n",
      "weighted avg       0.98      0.98      0.98       181\n",
      "\n"
     ]
    }
   ],
   "source": [
    "preds = clf.predict(X_val)\n",
    "print(classification_report(y_val, preds))"
   ]
  },
  {
   "cell_type": "code",
   "execution_count": 9,
   "id": "37d3b5a3",
   "metadata": {},
   "outputs": [
    {
     "name": "stdout",
     "output_type": "stream",
     "text": [
      "              precision    recall  f1-score   support\n",
      "\n",
      "          -1       1.00      0.99      1.00      2142\n",
      "           1       0.64      1.00      0.78        28\n",
      "\n",
      "    accuracy                           0.99      2170\n",
      "   macro avg       0.82      1.00      0.89      2170\n",
      "weighted avg       1.00      0.99      0.99      2170\n",
      "\n"
     ]
    }
   ],
   "source": [
    "preds = clf.predict(X_test)\n",
    "print(classification_report(y_test, preds))"
   ]
  },
  {
   "cell_type": "markdown",
   "id": "78df9d46",
   "metadata": {},
   "source": [
    "### Inference\n",
    "\n",
    "We can observe that in all the datasets, a recall score of `1.00` was achieved for the manipulated stocks."
   ]
  },
  {
   "cell_type": "markdown",
   "id": "9c4550cb",
   "metadata": {},
   "source": [
    "## QSVC\n",
    "\n",
    "We created a data re-uploading ansatz inspired by the paper [Data re-uploading for a universal quantum classifier](https://quantum-journal.org/papers/q-2020-02-06-226/).  In brief, every feature of the input vector is multiplied with weight and added with a bias i.e. $z_i = w_ix_i + b$. $z_i$ will be passed into the PennyLane's Rot Gate ($R_zR_yR_z$). We use the Rot gate which is $R_zR_yR_z$ repeatedly and for this, the input feature vector has to be a multiple of 3. This block can then be repeated on the single qubit or on more qubits (in this case we can have CZ entanglement).\n",
    "\n",
    "This will be the $U(x)$ where $x$ is the input feature vector. The actual ansatz will be $U(x)$ $U(x)$† followed by measuring the probs.\n",
    "\n",
    "We use a single layer of the circuit with 4 qubits."
   ]
  },
  {
   "cell_type": "code",
   "execution_count": 10,
   "id": "e51fdc3c",
   "metadata": {},
   "outputs": [],
   "source": [
    "def feature_map(x, params, n_layers, n_wires):\n",
    "    \"\"\"The embedding ansatz\"\"\"\n",
    "    steps = x.shape[0]//3\n",
    "    qubits = list(range(n_wires))\n",
    "    \n",
    "    # Start with the |+ > state\n",
    "    for q in qubits:\n",
    "        qml.Hadamard(wires=q)\n",
    "    \n",
    "    for l in range(n_layers):\n",
    "        for q in qubits:\n",
    "            for i in range(steps):\n",
    "                \n",
    "                # Rotation layer\n",
    "                z = x[3*i:3*i+3]*params[l,q,0,3*i:3*i+3] + params[l,q,1,3*i:3*i+3]\n",
    "                qml.Rot(z[0], z[1], z[2], wires=q)\n",
    "        \n",
    "        # Entanglement layer\n",
    "        for i in range(n_wires - 1):\n",
    "            qml.CZ((i, i + 1))"
   ]
  },
  {
   "cell_type": "code",
   "execution_count": 11,
   "id": "9598e462",
   "metadata": {},
   "outputs": [],
   "source": [
    "n_l = 1\n",
    "n_w = 4\n",
    "in_shape = 3\n",
    "\n",
    "params_shape = (n_l, n_w, 2, in_shape)\n",
    "params = pnp.random.uniform(0, 2 * np.pi, params_shape, requires_grad=True)\n",
    "\n",
    "dev = qml.device(\"default.qubit.jax\", wires=n_w)"
   ]
  },
  {
   "cell_type": "markdown",
   "id": "cc049c6e",
   "metadata": {},
   "source": [
    "Now, we proceed to define the quantum circuit that implements the kernel. To determine the overlap of the quantum states, we start by applying the embedding of the first data point and then the adjoint of the embedding of the second data point. Finally, we extract the probabilities associated with each basis state for observation.\n",
    "\n",
    "The kernel function is derived by examining the probability of observing the all-zero state at the end of the kernel circuit."
   ]
  },
  {
   "cell_type": "code",
   "execution_count": 12,
   "id": "63f32c3b",
   "metadata": {},
   "outputs": [],
   "source": [
    "@qml.qnode(dev, interface = 'jax')\n",
    "def kernel_circuit(x1, x2, params):\n",
    "    feature_map(x1, params, n_l, n_w)\n",
    "    qml.adjoint(feature_map)(x2, params, n_l, n_w)\n",
    "    return qml.probs(wires=range(n_w))\n",
    "\n",
    "def kernel(x1, x2, params):\n",
    "    return kernel_circuit(x1, x2, params)[0]"
   ]
  },
  {
   "cell_type": "code",
   "execution_count": 13,
   "id": "d849d711",
   "metadata": {},
   "outputs": [
    {
     "name": "stdout",
     "output_type": "stream",
     "text": [
      "0: ──H──Rot(4.81,1.21,-0.37)─╭●───────────────────────────────────╭●────────────────────\n",
      "1: ──H──Rot(4.61,0.33,4.99)──╰Z─╭●──────────╭●────────────────────╰(Z)†─────────────────\n",
      "2: ──H──Rot(3.47,1.96,2.96)─────╰Z─╭●─╭●────╰(Z)†──────────────────Rot(11.99,1.61,3.17)†\n",
      "3: ──H──Rot(2.08,1.90,1.17)────────╰Z─╰(Z)†──Rot(6.50,1.43,1.87)†──H†───────────────────\n",
      "\n",
      "───Rot(8.64,-0.35,0.46)†──H†─┤ ╭Probs\n",
      "───Rot(5.21,-1.09,5.67)†──H†─┤ ├Probs\n",
      "───H†────────────────────────┤ ├Probs\n",
      "─────────────────────────────┤ ╰Probs\n"
     ]
    }
   ],
   "source": [
    "print(qml.draw(kernel_circuit)(X_train[0], X_train[1], params))"
   ]
  },
  {
   "cell_type": "code",
   "execution_count": 14,
   "id": "6551526d",
   "metadata": {},
   "outputs": [],
   "source": [
    "jit_kernel = jax.jit(kernel)"
   ]
  },
  {
   "cell_type": "markdown",
   "id": "1b613e4b",
   "metadata": {},
   "source": [
    "## QSVC with Random Parameters"
   ]
  },
  {
   "cell_type": "code",
   "execution_count": 15,
   "id": "b5bc2775",
   "metadata": {},
   "outputs": [
    {
     "data": {
      "text/html": [
       "<style>#sk-container-id-1 {color: black;}#sk-container-id-1 pre{padding: 0;}#sk-container-id-1 div.sk-toggleable {background-color: white;}#sk-container-id-1 label.sk-toggleable__label {cursor: pointer;display: block;width: 100%;margin-bottom: 0;padding: 0.3em;box-sizing: border-box;text-align: center;}#sk-container-id-1 label.sk-toggleable__label-arrow:before {content: \"▸\";float: left;margin-right: 0.25em;color: #696969;}#sk-container-id-1 label.sk-toggleable__label-arrow:hover:before {color: black;}#sk-container-id-1 div.sk-estimator:hover label.sk-toggleable__label-arrow:before {color: black;}#sk-container-id-1 div.sk-toggleable__content {max-height: 0;max-width: 0;overflow: hidden;text-align: left;background-color: #f0f8ff;}#sk-container-id-1 div.sk-toggleable__content pre {margin: 0.2em;color: black;border-radius: 0.25em;background-color: #f0f8ff;}#sk-container-id-1 input.sk-toggleable__control:checked~div.sk-toggleable__content {max-height: 200px;max-width: 100%;overflow: auto;}#sk-container-id-1 input.sk-toggleable__control:checked~label.sk-toggleable__label-arrow:before {content: \"▾\";}#sk-container-id-1 div.sk-estimator input.sk-toggleable__control:checked~label.sk-toggleable__label {background-color: #d4ebff;}#sk-container-id-1 div.sk-label input.sk-toggleable__control:checked~label.sk-toggleable__label {background-color: #d4ebff;}#sk-container-id-1 input.sk-hidden--visually {border: 0;clip: rect(1px 1px 1px 1px);clip: rect(1px, 1px, 1px, 1px);height: 1px;margin: -1px;overflow: hidden;padding: 0;position: absolute;width: 1px;}#sk-container-id-1 div.sk-estimator {font-family: monospace;background-color: #f0f8ff;border: 1px dotted black;border-radius: 0.25em;box-sizing: border-box;margin-bottom: 0.5em;}#sk-container-id-1 div.sk-estimator:hover {background-color: #d4ebff;}#sk-container-id-1 div.sk-parallel-item::after {content: \"\";width: 100%;border-bottom: 1px solid gray;flex-grow: 1;}#sk-container-id-1 div.sk-label:hover label.sk-toggleable__label {background-color: #d4ebff;}#sk-container-id-1 div.sk-serial::before {content: \"\";position: absolute;border-left: 1px solid gray;box-sizing: border-box;top: 0;bottom: 0;left: 50%;z-index: 0;}#sk-container-id-1 div.sk-serial {display: flex;flex-direction: column;align-items: center;background-color: white;padding-right: 0.2em;padding-left: 0.2em;position: relative;}#sk-container-id-1 div.sk-item {position: relative;z-index: 1;}#sk-container-id-1 div.sk-parallel {display: flex;align-items: stretch;justify-content: center;background-color: white;position: relative;}#sk-container-id-1 div.sk-item::before, #sk-container-id-1 div.sk-parallel-item::before {content: \"\";position: absolute;border-left: 1px solid gray;box-sizing: border-box;top: 0;bottom: 0;left: 50%;z-index: -1;}#sk-container-id-1 div.sk-parallel-item {display: flex;flex-direction: column;z-index: 1;position: relative;background-color: white;}#sk-container-id-1 div.sk-parallel-item:first-child::after {align-self: flex-end;width: 50%;}#sk-container-id-1 div.sk-parallel-item:last-child::after {align-self: flex-start;width: 50%;}#sk-container-id-1 div.sk-parallel-item:only-child::after {width: 0;}#sk-container-id-1 div.sk-dashed-wrapped {border: 1px dashed gray;margin: 0 0.4em 0.5em 0.4em;box-sizing: border-box;padding-bottom: 0.4em;background-color: white;}#sk-container-id-1 div.sk-label label {font-family: monospace;font-weight: bold;display: inline-block;line-height: 1.2em;}#sk-container-id-1 div.sk-label-container {text-align: center;}#sk-container-id-1 div.sk-container {/* jupyter's `normalize.less` sets `[hidden] { display: none; }` but bootstrap.min.css set `[hidden] { display: none !important; }` so we also need the `!important` here to be able to override the default hidden behavior on the sphinx rendered scikit-learn.org. See: https://github.com/scikit-learn/scikit-learn/issues/21755 */display: inline-block !important;position: relative;}#sk-container-id-1 div.sk-text-repr-fallback {display: none;}</style><div id=\"sk-container-id-1\" class=\"sk-top-container\"><div class=\"sk-text-repr-fallback\"><pre>SVC(kernel=&lt;function &lt;lambda&gt; at 0x7ff5c01e6c10&gt;, random_state=42)</pre><b>In a Jupyter environment, please rerun this cell to show the HTML representation or trust the notebook. <br />On GitHub, the HTML representation is unable to render, please try loading this page with nbviewer.org.</b></div><div class=\"sk-container\" hidden><div class=\"sk-item\"><div class=\"sk-estimator sk-toggleable\"><input class=\"sk-toggleable__control sk-hidden--visually\" id=\"sk-estimator-id-1\" type=\"checkbox\" checked><label for=\"sk-estimator-id-1\" class=\"sk-toggleable__label sk-toggleable__label-arrow\">SVC</label><div class=\"sk-toggleable__content\"><pre>SVC(kernel=&lt;function &lt;lambda&gt; at 0x7ff5c01e6c10&gt;, random_state=42)</pre></div></div></div></div></div>"
      ],
      "text/plain": [
       "SVC(kernel=<function <lambda> at 0x7ff5c01e6c10>, random_state=42)"
      ]
     },
     "execution_count": 15,
     "metadata": {},
     "output_type": "execute_result"
    }
   ],
   "source": [
    "init_kernel = lambda x1, x2: jit_kernel(x1, x2, params)\n",
    "kernel_matrix = lambda X1, X2: kernel_matrix_jax(X1, X2, init_kernel)\n",
    "qsvc = SVC(kernel=kernel_matrix, random_state=seed)\n",
    "qsvc.fit(X_train, y_train)"
   ]
  },
  {
   "cell_type": "code",
   "execution_count": 16,
   "id": "ad94b9d2",
   "metadata": {},
   "outputs": [
    {
     "name": "stdout",
     "output_type": "stream",
     "text": [
      "Train Recall Score (random parameters)\n",
      "--------------------------------------------------\n",
      "              precision    recall  f1-score   support\n",
      "\n",
      "          -1       0.96      0.96      0.96       210\n",
      "           1       0.96      0.96      0.96       211\n",
      "\n",
      "    accuracy                           0.96       421\n",
      "   macro avg       0.96      0.96      0.96       421\n",
      "weighted avg       0.96      0.96      0.96       421\n",
      "\n",
      "\n",
      "Val Recall Score (random parameters)\n",
      "--------------------------------------------------\n",
      "              precision    recall  f1-score   support\n",
      "\n",
      "          -1       0.97      0.91      0.94        91\n",
      "           1       0.92      0.97      0.94        90\n",
      "\n",
      "    accuracy                           0.94       181\n",
      "   macro avg       0.94      0.94      0.94       181\n",
      "weighted avg       0.94      0.94      0.94       181\n",
      "\n",
      "\n",
      "Test Recall Score (trained parameters)\n",
      "--------------------------------------------------\n",
      "              precision    recall  f1-score   support\n",
      "\n",
      "          -1       1.00      0.93      0.96      2142\n",
      "           1       0.15      0.96      0.26        28\n",
      "\n",
      "    accuracy                           0.93      2170\n",
      "   macro avg       0.57      0.95      0.61      2170\n",
      "weighted avg       0.99      0.93      0.95      2170\n",
      "\n"
     ]
    }
   ],
   "source": [
    "train_preds = qsvc.predict(X_train)\n",
    "val_preds = qsvc.predict(X_val)\n",
    "test_preds = qsvc.predict(X_test)\n",
    "\n",
    "print(\"Train Recall Score (random parameters)\")\n",
    "print('-'*50)\n",
    "print(classification_report(y_train, train_preds))\n",
    "\n",
    "print()\n",
    "print(\"Val Recall Score (random parameters)\")\n",
    "print('-'*50)\n",
    "print(classification_report(y_val, val_preds))\n",
    "\n",
    "print()\n",
    "print(\"Test Recall Score (trained parameters)\")\n",
    "print('-'*50)\n",
    "print(classification_report(y_test, test_preds))"
   ]
  },
  {
   "cell_type": "code",
   "execution_count": 17,
   "id": "11b1f76b",
   "metadata": {},
   "outputs": [
    {
     "data": {
      "text/plain": [
       "tensor([[[[2.35330497, 5.97351416, 4.59925358],\n",
       "          [3.76148219, 0.98029403, 0.98014248]],\n",
       "\n",
       "         [[0.3649501 , 5.44234523, 3.77691701],\n",
       "          [4.44895122, 0.12933619, 6.09412333]],\n",
       "\n",
       "         [[5.23039137, 1.33416598, 1.14243996],\n",
       "          [1.15236452, 1.91161039, 3.2971419 ]],\n",
       "\n",
       "         [[2.71399059, 1.82984665, 3.84438512],\n",
       "          [0.87646578, 1.83559896, 2.30191935]]]], requires_grad=True)"
      ]
     },
     "execution_count": 17,
     "metadata": {},
     "output_type": "execute_result"
    }
   ],
   "source": [
    "params"
   ]
  },
  {
   "cell_type": "markdown",
   "id": "4c1d5041",
   "metadata": {},
   "source": [
    "### Inference\n",
    "\n",
    "We were able to obtain `0.96` test recall score on the manipulated stocks class with free parameters. In the next section, we try to improve this score by training the embedding kernel."
   ]
  },
  {
   "cell_type": "markdown",
   "id": "faf809e2",
   "metadata": {},
   "source": [
    "## QSVC with Trained Parameters\n",
    "\n",
    "We use the [kernel-target alignment](https://link.springer.com/article/10.1007/s10462-012-9369-4) to train the embedding kernel."
   ]
  },
  {
   "cell_type": "code",
   "execution_count": 18,
   "id": "fb8a5eb6",
   "metadata": {
    "scrolled": false
   },
   "outputs": [
    {
     "name": "stdout",
     "output_type": "stream",
     "text": [
      "Step 50 - Alignment = 0.201\n",
      "Step 100 - Alignment = 0.234\n",
      "Step 150 - Alignment = 0.232\n",
      "Step 200 - Alignment = 0.257\n",
      "Step 250 - Alignment = 0.258\n",
      "Step 300 - Alignment = 0.255\n",
      "Step 350 - Alignment = 0.252\n",
      "Step 400 - Alignment = 0.236\n",
      "Step 450 - Alignment = 0.249\n",
      "Step 500 - Alignment = 0.238\n"
     ]
    }
   ],
   "source": [
    "opt = optax.adam(learning_rate=0.05)\n",
    "opt_state = opt.init(params)\n",
    "\n",
    "for i in range(500):\n",
    "    # Choose subset of datapoints to compute the KTA on.\n",
    "    subset = np.random.choice(list(range(len(X_train))), 4)\n",
    "        \n",
    "    # Define the cost function for optimization\n",
    "    cost = lambda _params: -target_alignment_jax(\n",
    "        X_train[subset],\n",
    "        y_train[subset],\n",
    "        lambda x1, x2: jit_kernel(x1, x2, _params),\n",
    "        assume_normalized_kernel=True,\n",
    "    )\n",
    "        \n",
    "    # Optimization step\n",
    "    grads = jax.grad(cost)(params)\n",
    "    updates, opt_state = opt.update(grads, opt_state)\n",
    "    params = optax.apply_updates(params, updates)\n",
    "\n",
    "    # Report the alignment on the full dataset every 50 steps.\n",
    "    if (i + 1) % 50 == 0:\n",
    "        current_alignment = target_alignment_jax(\n",
    "            X_train,\n",
    "            y_train,\n",
    "            lambda x1, x2: jit_kernel(x1, x2, params),\n",
    "            assume_normalized_kernel=True,\n",
    "        )\n",
    "        print(f\"Step {i+1} - Alignment = {current_alignment:.3f}\")"
   ]
  },
  {
   "cell_type": "code",
   "execution_count": 19,
   "id": "c0c5834a",
   "metadata": {},
   "outputs": [
    {
     "data": {
      "text/html": [
       "<style>#sk-container-id-2 {color: black;}#sk-container-id-2 pre{padding: 0;}#sk-container-id-2 div.sk-toggleable {background-color: white;}#sk-container-id-2 label.sk-toggleable__label {cursor: pointer;display: block;width: 100%;margin-bottom: 0;padding: 0.3em;box-sizing: border-box;text-align: center;}#sk-container-id-2 label.sk-toggleable__label-arrow:before {content: \"▸\";float: left;margin-right: 0.25em;color: #696969;}#sk-container-id-2 label.sk-toggleable__label-arrow:hover:before {color: black;}#sk-container-id-2 div.sk-estimator:hover label.sk-toggleable__label-arrow:before {color: black;}#sk-container-id-2 div.sk-toggleable__content {max-height: 0;max-width: 0;overflow: hidden;text-align: left;background-color: #f0f8ff;}#sk-container-id-2 div.sk-toggleable__content pre {margin: 0.2em;color: black;border-radius: 0.25em;background-color: #f0f8ff;}#sk-container-id-2 input.sk-toggleable__control:checked~div.sk-toggleable__content {max-height: 200px;max-width: 100%;overflow: auto;}#sk-container-id-2 input.sk-toggleable__control:checked~label.sk-toggleable__label-arrow:before {content: \"▾\";}#sk-container-id-2 div.sk-estimator input.sk-toggleable__control:checked~label.sk-toggleable__label {background-color: #d4ebff;}#sk-container-id-2 div.sk-label input.sk-toggleable__control:checked~label.sk-toggleable__label {background-color: #d4ebff;}#sk-container-id-2 input.sk-hidden--visually {border: 0;clip: rect(1px 1px 1px 1px);clip: rect(1px, 1px, 1px, 1px);height: 1px;margin: -1px;overflow: hidden;padding: 0;position: absolute;width: 1px;}#sk-container-id-2 div.sk-estimator {font-family: monospace;background-color: #f0f8ff;border: 1px dotted black;border-radius: 0.25em;box-sizing: border-box;margin-bottom: 0.5em;}#sk-container-id-2 div.sk-estimator:hover {background-color: #d4ebff;}#sk-container-id-2 div.sk-parallel-item::after {content: \"\";width: 100%;border-bottom: 1px solid gray;flex-grow: 1;}#sk-container-id-2 div.sk-label:hover label.sk-toggleable__label {background-color: #d4ebff;}#sk-container-id-2 div.sk-serial::before {content: \"\";position: absolute;border-left: 1px solid gray;box-sizing: border-box;top: 0;bottom: 0;left: 50%;z-index: 0;}#sk-container-id-2 div.sk-serial {display: flex;flex-direction: column;align-items: center;background-color: white;padding-right: 0.2em;padding-left: 0.2em;position: relative;}#sk-container-id-2 div.sk-item {position: relative;z-index: 1;}#sk-container-id-2 div.sk-parallel {display: flex;align-items: stretch;justify-content: center;background-color: white;position: relative;}#sk-container-id-2 div.sk-item::before, #sk-container-id-2 div.sk-parallel-item::before {content: \"\";position: absolute;border-left: 1px solid gray;box-sizing: border-box;top: 0;bottom: 0;left: 50%;z-index: -1;}#sk-container-id-2 div.sk-parallel-item {display: flex;flex-direction: column;z-index: 1;position: relative;background-color: white;}#sk-container-id-2 div.sk-parallel-item:first-child::after {align-self: flex-end;width: 50%;}#sk-container-id-2 div.sk-parallel-item:last-child::after {align-self: flex-start;width: 50%;}#sk-container-id-2 div.sk-parallel-item:only-child::after {width: 0;}#sk-container-id-2 div.sk-dashed-wrapped {border: 1px dashed gray;margin: 0 0.4em 0.5em 0.4em;box-sizing: border-box;padding-bottom: 0.4em;background-color: white;}#sk-container-id-2 div.sk-label label {font-family: monospace;font-weight: bold;display: inline-block;line-height: 1.2em;}#sk-container-id-2 div.sk-label-container {text-align: center;}#sk-container-id-2 div.sk-container {/* jupyter's `normalize.less` sets `[hidden] { display: none; }` but bootstrap.min.css set `[hidden] { display: none !important; }` so we also need the `!important` here to be able to override the default hidden behavior on the sphinx rendered scikit-learn.org. See: https://github.com/scikit-learn/scikit-learn/issues/21755 */display: inline-block !important;position: relative;}#sk-container-id-2 div.sk-text-repr-fallback {display: none;}</style><div id=\"sk-container-id-2\" class=\"sk-top-container\"><div class=\"sk-text-repr-fallback\"><pre>SVC(kernel=&lt;function &lt;lambda&gt; at 0x7ff5b8647e50&gt;, probability=True,\n",
       "    random_state=42)</pre><b>In a Jupyter environment, please rerun this cell to show the HTML representation or trust the notebook. <br />On GitHub, the HTML representation is unable to render, please try loading this page with nbviewer.org.</b></div><div class=\"sk-container\" hidden><div class=\"sk-item\"><div class=\"sk-estimator sk-toggleable\"><input class=\"sk-toggleable__control sk-hidden--visually\" id=\"sk-estimator-id-2\" type=\"checkbox\" checked><label for=\"sk-estimator-id-2\" class=\"sk-toggleable__label sk-toggleable__label-arrow\">SVC</label><div class=\"sk-toggleable__content\"><pre>SVC(kernel=&lt;function &lt;lambda&gt; at 0x7ff5b8647e50&gt;, probability=True,\n",
       "    random_state=42)</pre></div></div></div></div></div>"
      ],
      "text/plain": [
       "SVC(kernel=<function <lambda> at 0x7ff5b8647e50>, probability=True,\n",
       "    random_state=42)"
      ]
     },
     "execution_count": 19,
     "metadata": {},
     "output_type": "execute_result"
    }
   ],
   "source": [
    "# First create a kernel with the trained parameter baked into it.\n",
    "trained_kernel = lambda x1, x2: jit_kernel(x1, x2, params)\n",
    "\n",
    "# Second create a kernel matrix function using the trained kernel.\n",
    "trained_kernel_matrix = lambda X1, X2: kernel_matrix_jax(X1, X2, trained_kernel)\n",
    "\n",
    "# Note that SVC expects the kernel argument to be a kernel matrix function.\n",
    "qsvc_trained = SVC(probability=True, kernel=trained_kernel_matrix, random_state=seed)\n",
    "\n",
    "qsvc_trained.fit(X_train, y_train)"
   ]
  },
  {
   "cell_type": "code",
   "execution_count": 20,
   "id": "7d46360e",
   "metadata": {},
   "outputs": [
    {
     "name": "stdout",
     "output_type": "stream",
     "text": [
      "Train Recall Score (trained parameters)\n",
      "--------------------------------------------------\n",
      "              precision    recall  f1-score   support\n",
      "\n",
      "          -1       0.99      0.95      0.97       210\n",
      "           1       0.95      0.99      0.97       211\n",
      "\n",
      "    accuracy                           0.97       421\n",
      "   macro avg       0.97      0.97      0.97       421\n",
      "weighted avg       0.97      0.97      0.97       421\n",
      "\n",
      "\n",
      "Val Recall Score (trained parameters)\n",
      "--------------------------------------------------\n",
      "              precision    recall  f1-score   support\n",
      "\n",
      "          -1       0.97      0.92      0.94        91\n",
      "           1       0.93      0.97      0.95        90\n",
      "\n",
      "    accuracy                           0.94       181\n",
      "   macro avg       0.95      0.94      0.94       181\n",
      "weighted avg       0.95      0.94      0.94       181\n",
      "\n"
     ]
    }
   ],
   "source": [
    "train_preds = qsvc_trained.predict(X_train)\n",
    "val_preds = qsvc_trained.predict(X_val)\n",
    "\n",
    "print(\"Train Recall Score (trained parameters)\")\n",
    "print('-'*50)\n",
    "print(classification_report(y_train, train_preds))\n",
    "\n",
    "print()\n",
    "print(\"Val Recall Score (trained parameters)\")\n",
    "print('-'*50)\n",
    "print(classification_report(y_val, val_preds))"
   ]
  },
  {
   "cell_type": "code",
   "execution_count": 21,
   "id": "9d3954c2",
   "metadata": {},
   "outputs": [
    {
     "name": "stdout",
     "output_type": "stream",
     "text": [
      "Test Recall Score (trained parameters)\n",
      "--------------------------------------------------\n",
      "              precision    recall  f1-score   support\n",
      "\n",
      "          -1       1.00      0.89      0.94      2142\n",
      "           1       0.10      0.96      0.18        28\n",
      "\n",
      "    accuracy                           0.89      2170\n",
      "   macro avg       0.55      0.93      0.56      2170\n",
      "weighted avg       0.99      0.89      0.93      2170\n",
      "\n"
     ]
    }
   ],
   "source": [
    "test_preds = qsvc_trained.predict(X_test)\n",
    "\n",
    "print(\"Test Recall Score (trained parameters)\")\n",
    "print('-'*50)\n",
    "print(classification_report(y_test, test_preds))"
   ]
  },
  {
   "cell_type": "code",
   "execution_count": 22,
   "id": "679616bd",
   "metadata": {},
   "outputs": [
    {
     "data": {
      "text/plain": [
       "Array([[[[ 2.97325131,  4.80120932,  6.69701353],\n",
       "         [ 4.33892484,  1.65979749,  0.98014248]],\n",
       "\n",
       "        [[-0.21688676,  3.8526415 ,  2.90745938],\n",
       "         [ 5.72399049, -1.90861894,  6.09412333]],\n",
       "\n",
       "        [[ 5.619755  ,  2.37567723,  1.62187717],\n",
       "         [ 1.75155034,  1.59029223,  3.2971419 ]],\n",
       "\n",
       "        [[ 3.23121033,  0.03304983,  3.80698805],\n",
       "         [ 1.34658006,  2.00163159,  2.30191935]]]], dtype=float64)"
      ]
     },
     "execution_count": 22,
     "metadata": {},
     "output_type": "execute_result"
    }
   ],
   "source": [
    "params"
   ]
  },
  {
   "cell_type": "markdown",
   "id": "4583e436",
   "metadata": {},
   "source": [
    "### Inference\n",
    "\n",
    "We were able to improve the score to `0.99` and `0.97` on the train and test dataset for manipulated stock prices."
   ]
  }
 ],
 "metadata": {
  "kernelspec": {
   "display_name": "Python (qkrishi)",
   "language": "python",
   "name": "qkrishi"
  },
  "language_info": {
   "codemirror_mode": {
    "name": "ipython",
    "version": 3
   },
   "file_extension": ".py",
   "mimetype": "text/x-python",
   "name": "python",
   "nbconvert_exporter": "python",
   "pygments_lexer": "ipython3",
   "version": "3.8.1"
  }
 },
 "nbformat": 4,
 "nbformat_minor": 5
}
